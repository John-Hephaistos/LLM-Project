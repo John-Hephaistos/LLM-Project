{
 "cells": [
  {
   "cell_type": "code",
   "execution_count": 64,
   "metadata": {},
   "outputs": [],
   "source": [
    "import pandas as pd\n",
    "import re\n",
    "from transformers import GPT2Tokenizer, GPT2LMHeadModel, pipeline\n",
    "\n",
    "# Load tokenizer and model\n",
    "tokenizer = GPT2Tokenizer.from_pretrained('gpt2')\n",
    "model = GPT2LMHeadModel.from_pretrained('gpt2')\n",
    "\n",
    "# Set the padding token to eos_token since GPT-2 does not have a default padding token\n",
    "if tokenizer.pad_token is None:\n",
    "    tokenizer.pad_token = tokenizer.eos_token"
   ]
  },
  {
   "cell_type": "code",
   "execution_count": 65,
   "metadata": {},
   "outputs": [],
   "source": [
    "df = pd.DataFrame(pd.read_csv(\"test_data.csv\"))"
   ]
  },
  {
   "cell_type": "code",
   "execution_count": 66,
   "metadata": {},
   "outputs": [
    {
     "name": "stdout",
     "output_type": "stream",
     "text": [
      "Sample preprocessed reviews:\n",
      "                                              prompt  completion\n",
      "0  A movie theater with a bad history of past gru...           2\n",
      "1  The first time I saw this film  I wanted to li...           1\n",
      "2  I have watched some pretty poor films in the p...           2\n",
      "3  The fact that a film is on DVD doesn t guarant...           2\n",
      "4  I m not a huge Star Trek fan  but I was lookin...           2\n",
      "5  I loved the gorgeous Greek scenery but the sto...           2\n",
      "6  I remember this game  It was always sitting on...           1\n",
      "7  OK i own this DVD i got it new at amazon    i ...           2\n",
      "8  A splendid example of how Hollywood could  and...           2\n"
     ]
    }
   ],
   "source": [
    "# Display sample of preprocessed reviews\n",
    "print(\"Sample preprocessed reviews:\")\n",
    "print(df)"
   ]
  },
  {
   "cell_type": "code",
   "execution_count": 67,
   "metadata": {},
   "outputs": [],
   "source": [
    "def get_sentiment(text):\n",
    "    prompt = (f\"Person A: 'What do you think about this review of the movie, in one word: postive or negative? \\\"{text}\\\"'\\n\"\n",
    "            \"Person B: 'Based on the review, I would say the sentiment is likely\")\n",
    "    inputs = tokenizer(prompt, return_tensors=\"pt\", padding=True, truncation=True, max_length=1000)\n",
    "    outputs = model.generate(\n",
    "        **inputs,\n",
    "        max_length=1000,  # Adjusted max_length to prevent too long outputs\n",
    "        pad_token_id=tokenizer.pad_token_id,\n",
    "        temperature=0.7,  # Adjusted temperature for less determinism\n",
    "        top_p=0.9,  # Enabled nucleus sampling\n",
    "        no_repeat_ngram_size=2  # Prevent repetition of n-grams\n",
    "    )\n",
    "    \n",
    "    response = tokenizer.decode(outputs[0], skip_special_tokens=True)\n",
    "    return response"
   ]
  },
  {
   "cell_type": "code",
   "execution_count": 68,
   "metadata": {},
   "outputs": [
    {
     "name": "stderr",
     "output_type": "stream",
     "text": [
      "/opt/miniconda3/envs/airquality_env/lib/python3.10/site-packages/transformers/generation/configuration_utils.py:590: UserWarning: `do_sample` is set to `False`. However, `temperature` is set to `0.7` -- this flag is only used in sample-based generation modes. You should set `do_sample=True` or unset `temperature`.\n",
      "  warnings.warn(\n",
      "/opt/miniconda3/envs/airquality_env/lib/python3.10/site-packages/transformers/generation/configuration_utils.py:595: UserWarning: `do_sample` is set to `False`. However, `top_p` is set to `0.9` -- this flag is only used in sample-based generation modes. You should set `do_sample=True` or unset `top_p`.\n",
      "  warnings.warn(\n"
     ]
    },
    {
     "name": "stdout",
     "output_type": "stream",
     "text": [
      "Sentiment Prediction: Person A: 'What do you think about this review of the movie, in one word: postive or negative? \"This movie was an excellent portrayal of historical events.\"'\n",
      "Person B: 'Based on the review, I would say the sentiment is likely to be positive. I think it's a good movie.'\n",
      "'Person C: \"I think the film is a great movie. It's not a bad movie.\"\n",
      "\"Person D: I'm not sure if it is. But I do think that it has a lot of potential. The movie is very well done. There are a few things that I don't like about it. One is that the characters are very different from the ones in the original. And the story is not very interesting. So I wouldn't say that this is the best movie of all time.\n",
      "The movie has been nominated for an Academy Award for Best Picture, Best Director, and Best Original Screenplay.\n"
     ]
    }
   ],
   "source": [
    "# Test the sentiment analysis function with a sample review\n",
    "test_review = \"This movie was an excellent portrayal of historical events.\"\n",
    "result = get_sentiment(test_review) \n",
    "print(\"Sentiment Prediction:\", result)"
   ]
  },
  {
   "cell_type": "code",
   "execution_count": 69,
   "metadata": {},
   "outputs": [
    {
     "name": "stdout",
     "output_type": "stream",
     "text": [
      "Sample model responses:\n",
      "                                              prompt  \\\n",
      "0  A movie theater with a bad history of past gru...   \n",
      "1  The first time I saw this film  I wanted to li...   \n",
      "2  I have watched some pretty poor films in the p...   \n",
      "3  The fact that a film is on DVD doesn t guarant...   \n",
      "4  I m not a huge Star Trek fan  but I was lookin...   \n",
      "\n",
      "                                      model_response  \n",
      "0  Person A: 'What do you think about this review...  \n",
      "1  Person A: 'What do you think about this review...  \n",
      "2  Person A: 'What do you think about this review...  \n",
      "3  Person A: 'What do you think about this review...  \n",
      "4  Person A: 'What do you think about this review...  \n"
     ]
    }
   ],
   "source": [
    "# Apply sentiment analysis and display some responses\n",
    "df['model_response'] = df['prompt'].apply(get_sentiment)\n",
    "print(\"Sample model responses:\")\n",
    "print(df[['prompt', 'model_response']].head(5))\n"
   ]
  },
  {
   "cell_type": "code",
   "execution_count": 71,
   "metadata": {},
   "outputs": [],
   "source": [
    "# Try to extraxt sentiment from the respone\n",
    "def extract_sentiment(response):\n",
    "    # Regex to find \"positive\" or \"negative\" after Person B's statement\n",
    "    match = re.search(r\"Person B: 'Based on the review, I would say the sentiment is likely to be (positive|negative)\", response)\n",
    "    if match:\n",
    "        return match.group(1)\n",
    "    return \"Sentiment not clear or not found\"\n"
   ]
  },
  {
   "cell_type": "code",
   "execution_count": 72,
   "metadata": {},
   "outputs": [
    {
     "name": "stdout",
     "output_type": "stream",
     "text": [
      "                                              prompt  completion  \\\n",
      "0  A movie theater with a bad history of past gru...           2   \n",
      "1  The first time I saw this film  I wanted to li...           1   \n",
      "2  I have watched some pretty poor films in the p...           2   \n",
      "3  The fact that a film is on DVD doesn t guarant...           2   \n",
      "4  I m not a huge Star Trek fan  but I was lookin...           2   \n",
      "5  I loved the gorgeous Greek scenery but the sto...           2   \n",
      "6  I remember this game  It was always sitting on...           1   \n",
      "7  OK i own this DVD i got it new at amazon    i ...           2   \n",
      "8  A splendid example of how Hollywood could  and...           2   \n",
      "\n",
      "                                      model_response  \\\n",
      "0  Person A: 'What do you think about this review...   \n",
      "1  Person A: 'What do you think about this review...   \n",
      "2  Person A: 'What do you think about this review...   \n",
      "3  Person A: 'What do you think about this review...   \n",
      "4  Person A: 'What do you think about this review...   \n",
      "5  Person A: 'What do you think about this review...   \n",
      "6  Person A: 'What do you think about this review...   \n",
      "7  Person A: 'What do you think about this review...   \n",
      "8  Person A: 'What do you think about this review...   \n",
      "\n",
      "                          sentiment  \n",
      "0  Sentiment not clear or not found  \n",
      "1  Sentiment not clear or not found  \n",
      "2  Sentiment not clear or not found  \n",
      "3  Sentiment not clear or not found  \n",
      "4  Sentiment not clear or not found  \n",
      "5  Sentiment not clear or not found  \n",
      "6  Sentiment not clear or not found  \n",
      "7  Sentiment not clear or not found  \n",
      "8  Sentiment not clear or not found  \n"
     ]
    }
   ],
   "source": [
    "\n",
    "# Apply function\n",
    "df['sentiment'] = df['model_response'].apply(extract_sentiment)\n",
    "\n",
    "\n",
    "print(df)\n",
    "df.to_csv('filename.csv', index=False)\n"
   ]
  }
 ],
 "metadata": {
  "kernelspec": {
   "display_name": "airquality_env",
   "language": "python",
   "name": "python3"
  },
  "language_info": {
   "codemirror_mode": {
    "name": "ipython",
    "version": 3
   },
   "file_extension": ".py",
   "mimetype": "text/x-python",
   "name": "python",
   "nbconvert_exporter": "python",
   "pygments_lexer": "ipython3",
   "version": "3.10.15"
  }
 },
 "nbformat": 4,
 "nbformat_minor": 2
}
